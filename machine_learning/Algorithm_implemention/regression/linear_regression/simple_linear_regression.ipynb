{
 "nbformat": 4,
 "nbformat_minor": 0,
 "metadata": {
  "colab": {
   "name": "Simple Linear Regression",
   "provenance": [],
   "toc_visible": true,
   "authorship_tag": "ABX9TyP1VVwrQU8S68bmX5lftYWC"
  },
  "kernelspec": {
   "name": "python3",
   "display_name": "Python 3 (ipykernel)",
   "language": "python"
  }
 },
 "cells": [
  {
   "cell_type": "markdown",
   "metadata": {
    "id": "l_LulNCC8z96",
    "colab_type": "text"
   },
   "source": [
    "# Simple Linear Regression"
   ]
  },
  {
   "cell_type": "markdown",
   "metadata": {
    "id": "xpXdowrE9DxW",
    "colab_type": "text"
   },
   "source": [
    "## Importing the libraries"
   ]
  },
  {
   "cell_type": "code",
   "metadata": {
    "id": "nhKd4hWx9GFt",
    "colab_type": "code",
    "colab": {},
    "ExecuteTime": {
     "end_time": "2025-09-20T09:22:36.321992Z",
     "start_time": "2025-09-20T09:22:36.317049Z"
    }
   },
   "source": [
    "import numpy as np\n",
    "import matplotlib.pyplot as plt\n",
    "import pandas as pd\n",
    "from sklearn.model_selection import train_test_split\n",
    "print(pd.__version__)"
   ],
   "outputs": [
    {
     "name": "stdout",
     "output_type": "stream",
     "text": [
      "2.3.2\n"
     ]
    }
   ],
   "execution_count": 2
  },
  {
   "cell_type": "markdown",
   "metadata": {
    "id": "6JhpWJi59J1p",
    "colab_type": "text"
   },
   "source": [
    "## Importing the dataset"
   ]
  },
  {
   "cell_type": "code",
   "metadata": {
    "id": "f8GfYDZ59O18",
    "colab_type": "code",
    "colab": {},
    "ExecuteTime": {
     "end_time": "2025-09-20T09:22:38.944713Z",
     "start_time": "2025-09-20T09:22:38.936748Z"
    }
   },
   "source": "df=pd.read_csv('Salary_Data.csv')",
   "outputs": [],
   "execution_count": 3
  },
  {
   "cell_type": "markdown",
   "metadata": {
    "id": "AyhQaTwP9RzG",
    "colab_type": "text"
   },
   "source": [
    "## Splitting the dataset into the Training set and Test set"
   ]
  },
  {
   "cell_type": "code",
   "metadata": {
    "id": "bxOOauiN9VpC",
    "colab_type": "code",
    "colab": {},
    "ExecuteTime": {
     "end_time": "2025-09-20T09:18:20.556074100Z",
     "start_time": "2025-09-11T18:51:22.201644Z"
    }
   },
   "source": [
    "X = df.iloc[:, :-1].values\n",
    "Y = df.iloc[:, 1].values\n",
    "X_train, X_test, Y_train, Y_test = train_test_split(\n",
    "        X, Y, test_size=1 / 3, random_state=0)"
   ],
   "outputs": [],
   "execution_count": 4
  },
  {
   "cell_type": "markdown",
   "metadata": {
    "id": "ZijQwFMQ9itx",
    "colab_type": "text"
   },
   "source": [
    "## Training the Simple Linear Regression model on the Training set"
   ]
  },
  {
   "cell_type": "code",
   "metadata": {
    "id": "B4Aj_8YJ9l7J",
    "colab_type": "code",
    "colab": {
     "base_uri": "https://localhost:8080/",
     "height": 34
    },
    "outputId": "15363111-2a76-4774-88ad-48db22159e9d",
    "executionInfo": {
     "status": "ok",
     "timestamp": 1586352495803,
     "user_tz": -240,
     "elapsed": 882,
     "user": {
      "displayName": "Hadelin de Ponteves",
      "photoUrl": "https://lh3.googleusercontent.com/a-/AOh14GhEuXdT7eQweUmRPW8_laJuPggSK6hfvpl5a6WBaA=s64",
      "userId": "15047218817161520419"
     }
    },
    "ExecuteTime": {
     "end_time": "2025-09-20T09:30:13.142068Z",
     "start_time": "2025-09-20T09:30:12.992703Z"
    }
   },
   "source": [
    "import sklearn.linear_model\n",
    "\n",
    "# See the source code of LinearRegression\n",
    "??sklearn.linear_model.LinearRegression\n",
    "\n",
    "# Or for specific method\n",
    "from sklearn.linear_model import LinearRegression\n",
    "??LinearRegression.fit"
   ],
   "outputs": [],
   "execution_count": 4
  },
  {
   "cell_type": "markdown",
   "metadata": {
    "id": "wa2T1Lq89o5H",
    "colab_type": "text"
   },
   "source": [
    "## Predicting the Test set results"
   ]
  },
  {
   "cell_type": "code",
   "metadata": {
    "id": "Rn_sTJ2o9smm",
    "colab_type": "code",
    "colab": {},
    "ExecuteTime": {
     "end_time": "2025-09-20T09:30:20.402198Z",
     "start_time": "2025-09-20T09:30:20.398064Z"
    }
   },
   "source": [
    "import sklearn\n",
    "print(sklearn.__file__)  # Shows the installation path\n",
    "\n",
    "import sklearn.linear_model\n",
    "print(sklearn.linear_model.__file__)"
   ],
   "outputs": [
    {
     "name": "stdout",
     "output_type": "stream",
     "text": [
      "C:\\Users\\Tanjim\\PycharmProjects\\Python_practice_ML_AI\\.venv\\Lib\\site-packages\\sklearn\\__init__.py\n",
      "C:\\Users\\Tanjim\\PycharmProjects\\Python_practice_ML_AI\\.venv\\Lib\\site-packages\\sklearn\\linear_model\\__init__.py\n"
     ]
    }
   ],
   "execution_count": 5
  },
  {
   "cell_type": "markdown",
   "metadata": {
    "id": "-zSoMZ-P9v8t",
    "colab_type": "text"
   },
   "source": [
    "## Visualising the Training set results"
   ]
  },
  {
   "cell_type": "code",
   "metadata": {
    "id": "IAePn_u-93tI",
    "colab_type": "code",
    "colab": {
     "base_uri": "https://localhost:8080/",
     "height": 295
    },
    "outputId": "b860fdce-5757-4104-b6e9-0f180e3fca05",
    "executionInfo": {
     "status": "ok",
     "timestamp": 1586352502760,
     "user_tz": -240,
     "elapsed": 763,
     "user": {
      "displayName": "Hadelin de Ponteves",
      "photoUrl": "https://lh3.googleusercontent.com/a-/AOh14GhEuXdT7eQweUmRPW8_laJuPggSK6hfvpl5a6WBaA=s64",
      "userId": "15047218817161520419"
     }
    },
    "ExecuteTime": {
     "end_time": "2025-09-20T09:30:28.351165Z",
     "start_time": "2025-09-20T09:30:28.345317Z"
    }
   },
   "source": [
    "# First, let's see what's available\n",
    "from sklearn.linear_model import LinearRegression\n",
    "import inspect\n",
    "\n",
    "# Get the source code\n",
    "source_code = inspect.getsource(LinearRegression)\n",
    "print(\"LinearRegression class source:\")\n",
    "print(source_code[:1000] + \"...\")  # First 1000 characters\n",
    "\n",
    "# See the fit method specifically\n",
    "fit_method = inspect.getsource(LinearRegression.fit)\n",
    "print(\"\\nFit method:\")\n",
    "print(fit_method)"
   ],
   "outputs": [
    {
     "name": "stdout",
     "output_type": "stream",
     "text": [
      "LinearRegression class source:\n",
      "class LinearRegression(MultiOutputMixin, RegressorMixin, LinearModel):\n",
      "    \"\"\"\n",
      "    Ordinary least squares Linear Regression.\n",
      "\n",
      "    LinearRegression fits a linear model with coefficients w = (w1, ..., wp)\n",
      "    to minimize the residual sum of squares between the observed targets in\n",
      "    the dataset, and the targets predicted by the linear approximation.\n",
      "\n",
      "    Parameters\n",
      "    ----------\n",
      "    fit_intercept : bool, default=True\n",
      "        Whether to calculate the intercept for this model. If set\n",
      "        to False, no intercept will be used in calculations\n",
      "        (i.e. data is expected to be centered).\n",
      "\n",
      "    copy_X : bool, default=True\n",
      "        If True, X will be copied; else, it may be overwritten.\n",
      "\n",
      "    tol : float, default=1e-6\n",
      "        The precision of the solution (`coef_`) is determined by `tol` which\n",
      "        specifies a different convergence criterion for the `lsqr` solver.\n",
      "        `tol` is set as `atol` and `btol` of `scipy.sparse.linalg.lsqr` when\n",
      "        fitting on sparse training data. This pa...\n",
      "\n",
      "Fit method:\n",
      "    @_fit_context(prefer_skip_nested_validation=True)\n",
      "    def fit(self, X, y, sample_weight=None):\n",
      "        \"\"\"\n",
      "        Fit linear model.\n",
      "\n",
      "        Parameters\n",
      "        ----------\n",
      "        X : {array-like, sparse matrix} of shape (n_samples, n_features)\n",
      "            Training data.\n",
      "\n",
      "        y : array-like of shape (n_samples,) or (n_samples, n_targets)\n",
      "            Target values. Will be cast to X's dtype if necessary.\n",
      "\n",
      "        sample_weight : array-like of shape (n_samples,), default=None\n",
      "            Individual weights for each sample.\n",
      "\n",
      "            .. versionadded:: 0.17\n",
      "               parameter *sample_weight* support to LinearRegression.\n",
      "\n",
      "        Returns\n",
      "        -------\n",
      "        self : object\n",
      "            Fitted Estimator.\n",
      "        \"\"\"\n",
      "        n_jobs_ = self.n_jobs\n",
      "\n",
      "        accept_sparse = False if self.positive else [\"csr\", \"csc\", \"coo\"]\n",
      "\n",
      "        X, y = validate_data(\n",
      "            self,\n",
      "            X,\n",
      "            y,\n",
      "            accept_sparse=accept_sparse,\n",
      "            y_numeric=True,\n",
      "            multi_output=True,\n",
      "            force_writeable=True,\n",
      "        )\n",
      "\n",
      "        has_sw = sample_weight is not None\n",
      "        if has_sw:\n",
      "            sample_weight = _check_sample_weight(\n",
      "                sample_weight, X, dtype=X.dtype, ensure_non_negative=True\n",
      "            )\n",
      "\n",
      "        # Note that neither _rescale_data nor the rest of the fit method of\n",
      "        # LinearRegression can benefit from in-place operations when X is a\n",
      "        # sparse matrix. Therefore, let's not copy X when it is sparse.\n",
      "        copy_X_in_preprocess_data = self.copy_X and not sp.issparse(X)\n",
      "\n",
      "        X, y, X_offset, y_offset, X_scale = _preprocess_data(\n",
      "            X,\n",
      "            y,\n",
      "            fit_intercept=self.fit_intercept,\n",
      "            copy=copy_X_in_preprocess_data,\n",
      "            sample_weight=sample_weight,\n",
      "        )\n",
      "\n",
      "        if has_sw:\n",
      "            # Sample weight can be implemented via a simple rescaling. Note\n",
      "            # that we safely do inplace rescaling when _preprocess_data has\n",
      "            # already made a copy if requested.\n",
      "            X, y, sample_weight_sqrt = _rescale_data(\n",
      "                X, y, sample_weight, inplace=copy_X_in_preprocess_data\n",
      "            )\n",
      "\n",
      "        if self.positive:\n",
      "            if y.ndim < 2:\n",
      "                self.coef_ = optimize.nnls(X, y)[0]\n",
      "            else:\n",
      "                # scipy.optimize.nnls cannot handle y with shape (M, K)\n",
      "                outs = Parallel(n_jobs=n_jobs_)(\n",
      "                    delayed(optimize.nnls)(X, y[:, j]) for j in range(y.shape[1])\n",
      "                )\n",
      "                self.coef_ = np.vstack([out[0] for out in outs])\n",
      "        elif sp.issparse(X):\n",
      "            X_offset_scale = X_offset / X_scale\n",
      "\n",
      "            if has_sw:\n",
      "\n",
      "                def matvec(b):\n",
      "                    return X.dot(b) - sample_weight_sqrt * b.dot(X_offset_scale)\n",
      "\n",
      "                def rmatvec(b):\n",
      "                    return X.T.dot(b) - X_offset_scale * b.dot(sample_weight_sqrt)\n",
      "\n",
      "            else:\n",
      "\n",
      "                def matvec(b):\n",
      "                    return X.dot(b) - b.dot(X_offset_scale)\n",
      "\n",
      "                def rmatvec(b):\n",
      "                    return X.T.dot(b) - X_offset_scale * b.sum()\n",
      "\n",
      "            X_centered = sparse.linalg.LinearOperator(\n",
      "                shape=X.shape, matvec=matvec, rmatvec=rmatvec\n",
      "            )\n",
      "\n",
      "            if y.ndim < 2:\n",
      "                self.coef_ = lsqr(X_centered, y, atol=self.tol, btol=self.tol)[0]\n",
      "            else:\n",
      "                # sparse_lstsq cannot handle y with shape (M, K)\n",
      "                outs = Parallel(n_jobs=n_jobs_)(\n",
      "                    delayed(lsqr)(\n",
      "                        X_centered, y[:, j].ravel(), atol=self.tol, btol=self.tol\n",
      "                    )\n",
      "                    for j in range(y.shape[1])\n",
      "                )\n",
      "                self.coef_ = np.vstack([out[0] for out in outs])\n",
      "        else:\n",
      "            # cut-off ratio for small singular values\n",
      "            cond = max(X.shape) * np.finfo(X.dtype).eps\n",
      "            self.coef_, _, self.rank_, self.singular_ = linalg.lstsq(X, y, cond=cond)\n",
      "            self.coef_ = self.coef_.T\n",
      "\n",
      "        if y.ndim == 1:\n",
      "            self.coef_ = np.ravel(self.coef_)\n",
      "        self._set_intercept(X_offset, y_offset, X_scale)\n",
      "        return self\n",
      "\n"
     ]
    }
   ],
   "execution_count": 6
  },
  {
   "cell_type": "markdown",
   "metadata": {
    "id": "EUX1Vhsv97ZT",
    "colab_type": "text"
   },
   "source": [
    "## Visualising the Test set results"
   ]
  },
  {
   "cell_type": "code",
   "metadata": {
    "id": "Ze9vpBTf-Bol",
    "colab_type": "code",
    "colab": {
     "base_uri": "https://localhost:8080/",
     "height": 295
    },
    "outputId": "58359ab2-7a52-4960-f49e-3d8b5ef6f7a1",
    "executionInfo": {
     "status": "ok",
     "timestamp": 1586352506966,
     "user_tz": -240,
     "elapsed": 1097,
     "user": {
      "displayName": "Hadelin de Ponteves",
      "photoUrl": "https://lh3.googleusercontent.com/a-/AOh14GhEuXdT7eQweUmRPW8_laJuPggSK6hfvpl5a6WBaA=s64",
      "userId": "15047218817161520419"
     }
    },
    "ExecuteTime": {
     "end_time": "2025-09-20T09:18:20.566074500Z",
     "start_time": "2025-09-11T18:51:32.466948Z"
    }
   },
   "source": "",
   "outputs": [
    {
     "data": {
      "text/plain": [
       "<Figure size 640x480 with 1 Axes>"
      ],
      "image/png": "[encoded data removed]"
     },
     "metadata": {},
     "output_type": "display_data"
    }
   ],
   "execution_count": 8
  }
 ]
}
