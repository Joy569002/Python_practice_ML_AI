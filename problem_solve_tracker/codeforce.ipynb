{
 "cells": [
  {
   "cell_type": "code",
   "id": "initial_id",
   "metadata": {
    "collapsed": true,
    "ExecuteTime": {
     "end_time": "2025-10-04T16:32:09.665031Z",
     "start_time": "2025-10-04T16:32:03.047996Z"
    }
   },
   "source": [
    "import requests\n",
    "from datetime import datetime, timedelta\n",
    "\n",
    "handle = \"paladinsghost\"\n",
    "\n",
    "\n",
    "# ⏳ Calculate timestamp for 7 days ago\n",
    "week_ago = datetime.now() - timedelta(days=7)\n",
    "\n",
    "# 📡 Fetch submission data from Codeforces API\n",
    "url = f\"https://codeforces.com/api/user.status?handle={handle}\"\n",
    "response = requests.get(url).json()\n",
    "\n",
    "# 🧮 Track unique accepted problems\n",
    "solved = set()\n",
    "\n",
    "for sub in response[\"result\"]:\n",
    "    if sub.get(\"verdict\") == \"OK\":\n",
    "        ts = datetime.fromtimestamp(sub[\"creationTimeSeconds\"])\n",
    "        if ts > week_ago:\n",
    "            problem_id = f\"{sub['problem']['contestId']}-{sub['problem']['index']}\"\n",
    "            solved.add(problem_id)\n",
    "\n",
    "print(f\"✅ Unique problems solved in last 7 days: {len(solved)}\")\n",
    "\n",
    "\n"
   ],
   "outputs": [
    {
     "name": "stdout",
     "output_type": "stream",
     "text": [
      "✅ Unique problems solved in last 7 days: 28\n"
     ]
    }
   ],
   "execution_count": 10
  },
  {
   "metadata": {
    "ExecuteTime": {
     "end_time": "2025-10-04T16:33:28.206482Z",
     "start_time": "2025-10-04T16:33:27.131772Z"
    }
   },
   "cell_type": "code",
   "source": [
    "import requests\n",
    "from datetime import datetime, timedelta\n",
    "\n",
    "# 🔧 Replace with your LeetCode username\n",
    "username = \"tanjim001\"\n",
    "\n",
    "# 📡 GraphQL query to fetch recent accepted submissions\n",
    "query = \"\"\"\n",
    "query recentAcSubmissions($username: String!) {\n",
    "  recentAcSubmissionList(username: $username) {\n",
    "    title\n",
    "    timestamp\n",
    "  }\n",
    "}\n",
    "\"\"\"\n",
    "\n",
    "# 🔧 Send request to LeetCode GraphQL endpoint\n",
    "url = \"https://leetcode.com/graphql\"\n",
    "response = requests.post(url, json={\"query\": query, \"variables\": {\"username\": username}})\n",
    "data = response.json()\n",
    "\n",
    "# ⏳ Filter submissions from the last 7 days\n",
    "week_ago = datetime.now().timestamp() - 7 * 24 * 60 * 60\n",
    "solved = set()\n",
    "\n",
    "for sub in data[\"data\"][\"recentAcSubmissionList\"]:\n",
    "    if float(sub[\"timestamp\"]) > week_ago:\n",
    "        solved.add(sub[\"title\"])\n",
    "\n",
    "print(f\"✅ Unique LeetCode problems accepted in last 7 days: {len(solved)}\")"
   ],
   "id": "10cb59942f91a183",
   "outputs": [
    {
     "name": "stdout",
     "output_type": "stream",
     "text": [
      "✅ Unique LeetCode problems accepted in last 7 days: 9\n"
     ]
    }
   ],
   "execution_count": 11
  }
 ],
 "metadata": {
  "kernelspec": {
   "display_name": "Python 3",
   "language": "python",
   "name": "python3"
  },
  "language_info": {
   "codemirror_mode": {
    "name": "ipython",
    "version": 2
   },
   "file_extension": ".py",
   "mimetype": "text/x-python",
   "name": "python",
   "nbconvert_exporter": "python",
   "pygments_lexer": "ipython2",
   "version": "2.7.6"
  }
 },
 "nbformat": 4,
 "nbformat_minor": 5
}
