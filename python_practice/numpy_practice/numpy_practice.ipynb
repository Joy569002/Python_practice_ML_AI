{
 "cells": [
  {
   "cell_type": "code",
   "id": "initial_id",
   "metadata": {
    "collapsed": true,
    "ExecuteTime": {
     "end_time": "2025-09-19T21:58:27.031399Z",
     "start_time": "2025-09-19T21:58:26.938696Z"
    }
   },
   "source": [
    "import numpy as np\n",
    "\n",
    "from machine_learning.ml_optimizer import timeit"
   ],
   "outputs": [],
   "execution_count": 1
  },
  {
   "metadata": {},
   "cell_type": "markdown",
   "source": [
    "\n",
    "# **Comparing process time**\n",
    "\n",
    "#### first checking time of array then checking time of numpy\n"
   ],
   "id": "c5ab6fc89b8b05ef"
  },
  {
   "metadata": {
    "ExecuteTime": {
     "end_time": "2025-09-19T21:59:59.908949Z",
     "start_time": "2025-09-19T21:59:43.762089Z"
    }
   },
   "cell_type": "code",
   "source": [
    "from time import process_time\n",
    "\n",
    "import  numpy as np\n",
    "a=[i for i in range(100000000)]\n",
    "s_t=process_time()\n",
    "a=[i+5 for i in a]\n",
    "st_t=process_time()\n",
    "print(st_t-s_t)"
   ],
   "id": "634722016b7ff277",
   "outputs": [
    {
     "name": "stdout",
     "output_type": "stream",
     "text": [
      "10.484375\n"
     ]
    }
   ],
   "execution_count": 2
  },
  {
   "metadata": {
    "ExecuteTime": {
     "end_time": "2025-09-19T22:01:51.506770Z",
     "start_time": "2025-09-19T22:01:40.854268Z"
    }
   },
   "cell_type": "code",
   "source": [
    "import  numpy as np\n",
    "np_array=np.array([i for i in range(100000000)])\n",
    "s_t = process_time()\n",
    "np_array+=5\n",
    "st_t=process_time()\n",
    "print(st_t-s_t)"
   ],
   "id": "7c0e64649bffcf8c",
   "outputs": [
    {
     "name": "stdout",
     "output_type": "stream",
     "text": [
      "0.171875\n"
     ]
    }
   ],
   "execution_count": 3
  },
  {
   "metadata": {},
   "cell_type": "markdown",
   "source": "### **Huge time difference one is around 10 s another 0.17s**",
   "id": "1c736504765ecd08"
  },
  {
   "metadata": {},
   "cell_type": "markdown",
   "source": "# Initialize placeholder",
   "id": "25b8aad67335b423"
  },
  {
   "metadata": {
    "ExecuteTime": {
     "end_time": "2025-09-19T22:04:43.863068Z",
     "start_time": "2025-09-19T22:04:43.859675Z"
    }
   },
   "cell_type": "code",
   "source": "x=np.zeros((2,2))",
   "id": "b4734112421a60a6",
   "outputs": [],
   "execution_count": 7
  },
  {
   "metadata": {
    "ExecuteTime": {
     "end_time": "2025-09-19T22:05:33.245745Z",
     "start_time": "2025-09-19T22:05:33.242753Z"
    }
   },
   "cell_type": "code",
   "source": "y=np.ones((2,2))",
   "id": "45f8bba826ac7507",
   "outputs": [],
   "execution_count": 9
  },
  {
   "metadata": {
    "ExecuteTime": {
     "end_time": "2025-09-19T22:05:30.913121Z",
     "start_time": "2025-09-19T22:05:30.852221Z"
    }
   },
   "cell_type": "code",
   "source": "z=np.random.random((2,2))",
   "id": "e1c2e33987b53d3e",
   "outputs": [],
   "execution_count": 8
  },
  {
   "metadata": {
    "ExecuteTime": {
     "end_time": "2025-09-19T22:06:13.181964Z",
     "start_time": "2025-09-19T22:06:13.173921Z"
    }
   },
   "cell_type": "code",
   "source": "w=np.random.randint((2,2))",
   "id": "e83eeb584f783d3e",
   "outputs": [],
   "execution_count": 11
  },
  {
   "metadata": {
    "ExecuteTime": {
     "end_time": "2025-09-19T22:07:02.920672Z",
     "start_time": "2025-09-19T22:07:02.916137Z"
    }
   },
   "cell_type": "code",
   "source": [
    "print(\"X=\",x)\n",
    "print(\"Y=\",y)\n",
    "print(\"Z=\",z)\n",
    "print(\"w=\",w)"
   ],
   "id": "f6e01f9abb39155b",
   "outputs": [
    {
     "name": "stdout",
     "output_type": "stream",
     "text": [
      "X= [[0. 0.]\n",
      " [0. 0.]]\n",
      "Y= [[1. 1.]\n",
      " [1. 1.]]\n",
      "Z= [[0.01279058 0.4527378 ]\n",
      " [0.44384647 0.09486309]]\n",
      "w= [0 1]\n"
     ]
    }
   ],
   "execution_count": 13
  },
  {
   "metadata": {},
   "cell_type": "markdown",
   "source": "# **Mathmatics**",
   "id": "baed0b304bf3bbb2"
  },
  {
   "metadata": {
    "ExecuteTime": {
     "end_time": "2025-09-19T22:08:41.469190Z",
     "start_time": "2025-09-19T22:08:39.816880Z"
    }
   },
   "cell_type": "code",
   "source": [
    "list1=[1,2,3,4]\n",
    "list2=[5,6,7,8]\n",
    "a=np.array(list1)\n",
    "b=np.array(list2)\n",
    "print(\"a=\",a)\n",
    "print(\"b=\",b)"
   ],
   "id": "5bcb142b5db0eb79",
   "outputs": [
    {
     "name": "stdout",
     "output_type": "stream",
     "text": [
      "a= [1 2 3 4]\n",
      "b= [5 6 7 8]\n"
     ]
    }
   ],
   "execution_count": 14
  },
  {
   "metadata": {
    "ExecuteTime": {
     "end_time": "2025-09-19T22:12:15.327143Z",
     "start_time": "2025-09-19T22:12:15.322094Z"
    }
   },
   "cell_type": "code",
   "source": [
    "print(np.add(a,b))\n",
    "print(np.subtract(a,b))\n",
    "print(np.multiply(a,b))\n",
    "print(np.divide(a,b))"
   ],
   "id": "485e742b3f4c600e",
   "outputs": [
    {
     "name": "stdout",
     "output_type": "stream",
     "text": [
      "[ 6  8 10 12]\n",
      "[-4 -4 -4 -4]\n",
      "[ 5 12 21 32]\n",
      "[0.2        0.33333333 0.42857143 0.5       ]\n"
     ]
    }
   ],
   "execution_count": 30
  },
  {
   "metadata": {
    "ExecuteTime": {
     "end_time": "2025-09-19T22:12:35.229651Z",
     "start_time": "2025-09-19T22:12:35.225373Z"
    }
   },
   "cell_type": "code",
   "source": "a.shape\n",
   "id": "e7c93e34e7bb9b78",
   "outputs": [
    {
     "data": {
      "text/plain": [
       "(4,)"
      ]
     },
     "execution_count": 32,
     "metadata": {},
     "output_type": "execute_result"
    }
   ],
   "execution_count": 32
  },
  {
   "metadata": {
    "ExecuteTime": {
     "end_time": "2025-09-19T22:14:55.414058Z",
     "start_time": "2025-09-19T22:14:55.410435Z"
    }
   },
   "cell_type": "code",
   "source": [
    "a = np.random.randint(0, 6, (2, 3))\n",
    "print(a)"
   ],
   "id": "3426f7ef5b6fd159",
   "outputs": [
    {
     "name": "stdout",
     "output_type": "stream",
     "text": [
      "[[4 0 4]\n",
      " [2 4 3]]\n"
     ]
    }
   ],
   "execution_count": 39
  },
  {
   "metadata": {
    "ExecuteTime": {
     "end_time": "2025-09-19T22:15:17.606404Z",
     "start_time": "2025-09-19T22:15:17.600686Z"
    }
   },
   "cell_type": "code",
   "source": "a.reshape(3,2)",
   "id": "c770868fa53f0cd2",
   "outputs": [
    {
     "data": {
      "text/plain": [
       "array([[4, 0],\n",
       "       [4, 2],\n",
       "       [4, 3]], dtype=int32)"
      ]
     },
     "execution_count": 40,
     "metadata": {},
     "output_type": "execute_result"
    }
   ],
   "execution_count": 40
  }
 ],
 "metadata": {
  "kernelspec": {
   "display_name": "Python 3",
   "language": "python",
   "name": "python3"
  },
  "language_info": {
   "codemirror_mode": {
    "name": "ipython",
    "version": 2
   },
   "file_extension": ".py",
   "mimetype": "text/x-python",
   "name": "python",
   "nbconvert_exporter": "python",
   "pygments_lexer": "ipython2",
   "version": "2.7.6"
  }
 },
 "nbformat": 4,
 "nbformat_minor": 5
}
