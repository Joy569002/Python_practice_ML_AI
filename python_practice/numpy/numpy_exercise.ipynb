{
 "cells": [
  {
   "metadata": {},
   "cell_type": "markdown",
   "source": "Get NumPy Version & Build Info",
   "id": "44c27a2a811dec6"
  },
  {
   "metadata": {
    "collapsed": true,
    "ExecuteTime": {
     "end_time": "2025-09-26T19:38:44.217040Z",
     "start_time": "2025-09-26T19:38:43.998566Z"
    }
   },
   "cell_type": "code",
   "source": [
    "import numpy as np\n",
    "print(np.__version__)\n",
    "print(np.show_config())"
   ],
   "id": "c1049c410a153c9b",
   "outputs": [
    {
     "name": "stdout",
     "output_type": "stream",
     "text": [
      "2.3.3\n",
      "Build Dependencies:\n",
      "  blas:\n",
      "    detection method: pkgconfig\n",
      "    found: true\n",
      "    include directory: C:/Users/runneradmin/AppData/Local/Temp/cibw-run-5t0hy_xh/cp313-win_amd64/build/venv/Lib/site-packages/scipy_openblas64/include\n",
      "    lib directory: C:/Users/runneradmin/AppData/Local/Temp/cibw-run-5t0hy_xh/cp313-win_amd64/build/venv/Lib/site-packages/scipy_openblas64/lib\n",
      "    name: scipy-openblas\n",
      "    openblas configuration: OpenBLAS 0.3.30  USE64BITINT DYNAMIC_ARCH NO_AFFINITY\n",
      "      Haswell MAX_THREADS=24\n",
      "    pc file directory: D:/a/numpy-release/numpy-release/.openblas\n",
      "    version: 0.3.30\n",
      "  lapack:\n",
      "    detection method: pkgconfig\n",
      "    found: true\n",
      "    include directory: C:/Users/runneradmin/AppData/Local/Temp/cibw-run-5t0hy_xh/cp313-win_amd64/build/venv/Lib/site-packages/scipy_openblas64/include\n",
      "    lib directory: C:/Users/runneradmin/AppData/Local/Temp/cibw-run-5t0hy_xh/cp313-win_amd64/build/venv/Lib/site-packages/scipy_openblas64/lib\n",
      "    name: scipy-openblas\n",
      "    openblas configuration: OpenBLAS 0.3.30  USE64BITINT DYNAMIC_ARCH NO_AFFINITY\n",
      "      Haswell MAX_THREADS=24\n",
      "    pc file directory: D:/a/numpy-release/numpy-release/.openblas\n",
      "    version: 0.3.30\n",
      "Compilers:\n",
      "  c:\n",
      "    commands: cl\n",
      "    linker: link\n",
      "    name: msvc\n",
      "    version: 19.44.35215\n",
      "  c++:\n",
      "    commands: cl\n",
      "    linker: link\n",
      "    name: msvc\n",
      "    version: 19.44.35215\n",
      "  cython:\n",
      "    commands: cython\n",
      "    linker: cython\n",
      "    name: cython\n",
      "    version: 3.1.3\n",
      "Machine Information:\n",
      "  build:\n",
      "    cpu: x86_64\n",
      "    endian: little\n",
      "    family: x86_64\n",
      "    system: windows\n",
      "  host:\n",
      "    cpu: x86_64\n",
      "    endian: little\n",
      "    family: x86_64\n",
      "    system: windows\n",
      "Python Information:\n",
      "  path: C:\\Users\\runneradmin\\AppData\\Local\\Temp\\build-env-q3zde7n4\\Scripts\\python.exe\n",
      "  version: '3.13'\n",
      "SIMD Extensions:\n",
      "  baseline:\n",
      "  - SSE\n",
      "  - SSE2\n",
      "  - SSE3\n",
      "  found:\n",
      "  - SSSE3\n",
      "  - SSE41\n",
      "  - POPCNT\n",
      "  - SSE42\n",
      "  - AVX\n",
      "  - F16C\n",
      "  - FMA3\n",
      "  - AVX2\n",
      "  not found:\n",
      "  - AVX512F\n",
      "  - AVX512CD\n",
      "  - AVX512_SKX\n",
      "  - AVX512_CLX\n",
      "  - AVX512_CNL\n",
      "  - AVX512_ICL\n",
      "\n",
      "None\n"
     ]
    }
   ],
   "execution_count": 2
  },
  {
   "metadata": {},
   "cell_type": "markdown",
   "source": "Help for NumPy Add Function",
   "id": "f038da99f2cd2f7d"
  },
  {
   "metadata": {
    "ExecuteTime": {
     "end_time": "2025-09-26T19:38:44.276524Z",
     "start_time": "2025-09-26T19:38:44.269566Z"
    }
   },
   "cell_type": "code",
   "source": "print(np.info(np.add))",
   "id": "1d3f52f718b838b2",
   "outputs": [
    {
     "name": "stdout",
     "output_type": "stream",
     "text": [
      "add(x1, x2, /, out=None, *, where=True, casting='same_kind', order='K', dtype=None, subok=True[, signature])\n",
      "\n",
      "Add arguments element-wise.\n",
      "\n",
      "Parameters\n",
      "----------\n",
      "x1, x2 : array_like\n",
      "    The arrays to be added.\n",
      "    If ``x1.shape != x2.shape``, they must be broadcastable to a common\n",
      "    shape (which becomes the shape of the output).\n",
      "out : ndarray, None, or tuple of ndarray and None, optional\n",
      "    A location into which the result is stored. If provided, it must have\n",
      "    a shape that the inputs broadcast to. If not provided or None,\n",
      "    a freshly-allocated array is returned. A tuple (possible only as a\n",
      "    keyword argument) must have length equal to the number of outputs.\n",
      "where : array_like, optional\n",
      "    This condition is broadcast over the input. At locations where the\n",
      "    condition is True, the `out` array will be set to the ufunc result.\n",
      "    Elsewhere, the `out` array will retain its original value.\n",
      "    Note that if an uninitialized `out` array is created via the default\n",
      "    ``out=None``, locations within it where the condition is False will\n",
      "    remain uninitialized.\n",
      "**kwargs\n",
      "    For other keyword-only arguments, see the\n",
      "    :ref:`ufunc docs <ufuncs.kwargs>`.\n",
      "\n",
      "Returns\n",
      "-------\n",
      "add : ndarray or scalar\n",
      "    The sum of `x1` and `x2`, element-wise.\n",
      "    This is a scalar if both `x1` and `x2` are scalars.\n",
      "\n",
      "Notes\n",
      "-----\n",
      "Equivalent to `x1` + `x2` in terms of array broadcasting.\n",
      "\n",
      "Examples\n",
      "--------\n",
      ">>> import numpy as np\n",
      ">>> np.add(1.0, 4.0)\n",
      "5.0\n",
      ">>> x1 = np.arange(9.0).reshape((3, 3))\n",
      ">>> x2 = np.arange(3.0)\n",
      ">>> np.add(x1, x2)\n",
      "array([[  0.,   2.,   4.],\n",
      "       [  3.,   5.,   7.],\n",
      "       [  6.,   8.,  10.]])\n",
      "\n",
      "The ``+`` operator can be used as a shorthand for ``np.add`` on ndarrays.\n",
      "\n",
      ">>> x1 = np.arange(9.0).reshape((3, 3))\n",
      ">>> x2 = np.arange(3.0)\n",
      ">>> x1 + x2\n",
      "array([[ 0.,  2.,  4.],\n",
      "       [ 3.,  5.,  7.],\n",
      "       [ 6.,  8., 10.]])\n",
      "None\n"
     ]
    }
   ],
   "execution_count": 3
  },
  {
   "metadata": {},
   "cell_type": "markdown",
   "source": "TEst none are zero\n",
   "id": "cd92ec20ee093aa2"
  },
  {
   "metadata": {
    "ExecuteTime": {
     "end_time": "2025-09-26T19:39:16.483713Z",
     "start_time": "2025-09-26T19:39:16.469735Z"
    }
   },
   "cell_type": "code",
   "source": [
    "x=np.array([1,2,3,4])\n",
    "print(x)\n",
    "np.all(x)"
   ],
   "id": "d29fec6dfd04668e",
   "outputs": [
    {
     "name": "stdout",
     "output_type": "stream",
     "text": [
      "[1 2 3 4]\n"
     ]
    },
    {
     "data": {
      "text/plain": [
       "np.True_"
      ]
     },
     "execution_count": 6,
     "metadata": {},
     "output_type": "execute_result"
    }
   ],
   "execution_count": 6
  },
  {
   "metadata": {
    "ExecuteTime": {
     "end_time": "2025-09-26T19:40:41.874943Z",
     "start_time": "2025-09-26T19:40:41.869552Z"
    }
   },
   "cell_type": "code",
   "source": [
    "x=np.array([1,2,3,4,0])\n",
    "print(x)\n",
    "np.all(x)"
   ],
   "id": "9f3c8c09de2eade4",
   "outputs": [
    {
     "name": "stdout",
     "output_type": "stream",
     "text": [
      "[1 2 3 4 0]\n"
     ]
    },
    {
     "data": {
      "text/plain": [
       "np.False_"
      ]
     },
     "execution_count": 10,
     "metadata": {},
     "output_type": "execute_result"
    }
   ],
   "execution_count": 10
  },
  {
   "metadata": {},
   "cell_type": "markdown",
   "source": "Checking if there any non-zero in array",
   "id": "ff95dcbddff79518"
  },
  {
   "metadata": {
    "ExecuteTime": {
     "end_time": "2025-09-26T19:42:33.465439Z",
     "start_time": "2025-09-26T19:42:33.460004Z"
    }
   },
   "cell_type": "code",
   "source": [
    "y=np.array([0,0,0,0,1])\n",
    "print(y)\n",
    "np.any(y)"
   ],
   "id": "da9ea5269fef096b",
   "outputs": [
    {
     "name": "stdout",
     "output_type": "stream",
     "text": [
      "[0 0 0 0 1]\n"
     ]
    },
    {
     "data": {
      "text/plain": [
       "np.True_"
      ]
     },
     "execution_count": 11,
     "metadata": {},
     "output_type": "execute_result"
    }
   ],
   "execution_count": 11
  },
  {
   "metadata": {
    "ExecuteTime": {
     "end_time": "2025-09-26T19:42:48.646882Z",
     "start_time": "2025-09-26T19:42:48.640204Z"
    }
   },
   "cell_type": "code",
   "source": [
    "y=np.array([0,0,0,0,0])\n",
    "print(y)\n",
    "np.any(y)"
   ],
   "id": "ad322bba5df278bf",
   "outputs": [
    {
     "name": "stdout",
     "output_type": "stream",
     "text": [
      "[0 0 0 0 0]\n"
     ]
    },
    {
     "data": {
      "text/plain": [
       "np.False_"
      ]
     },
     "execution_count": 12,
     "metadata": {},
     "output_type": "execute_result"
    }
   ],
   "execution_count": 12
  },
  {
   "metadata": {},
   "cell_type": "markdown",
   "source": "NumPy: Test a given array element-wise for finiteness (not infinity or not a Number)",
   "id": "b95882e45889e764"
  },
  {
   "metadata": {
    "ExecuteTime": {
     "end_time": "2025-09-26T19:44:55.978174Z",
     "start_time": "2025-09-26T19:44:55.972944Z"
    }
   },
   "cell_type": "code",
   "source": [
    "a=np.array([1,0,np.nan,np.inf])\n",
    "print(a)\n",
    "print(np.isinf(a))"
   ],
   "id": "3b408b4a725eb16",
   "outputs": [
    {
     "name": "stdout",
     "output_type": "stream",
     "text": [
      "[ 1.  0. nan inf]\n",
      "[False False False  True]\n"
     ]
    }
   ],
   "execution_count": 14
  },
  {
   "metadata": {
    "ExecuteTime": {
     "end_time": "2025-09-26T19:45:32.701550Z",
     "start_time": "2025-09-26T19:45:32.694950Z"
    }
   },
   "cell_type": "code",
   "source": [
    "a=np.array([1,0,np.nan,np.inf])\n",
    "print(a)\n",
    "print(np.isfinite(a))"
   ],
   "id": "97b0ad65f26c0a7",
   "outputs": [
    {
     "name": "stdout",
     "output_type": "stream",
     "text": [
      "[ 1.  0. nan inf]\n",
      "[ True  True False False]\n"
     ]
    }
   ],
   "execution_count": 15
  },
  {
   "metadata": {},
   "cell_type": "markdown",
   "source": "Multiply two array of same size",
   "id": "dde968d7083958e9"
  },
  {
   "metadata": {
    "ExecuteTime": {
     "end_time": "2025-09-26T19:48:48.170280Z",
     "start_time": "2025-09-26T19:48:48.164427Z"
    }
   },
   "cell_type": "code",
   "source": [
    "x=np.array([1,2,3,4])\n",
    "y=np.array([1,5,3,4])\n",
    "print(np.multiply(x,y))"
   ],
   "id": "e44028d9fcc312a2",
   "outputs": [
    {
     "name": "stdout",
     "output_type": "stream",
     "text": [
      "[ 1 10  9 16]\n"
     ]
    }
   ],
   "execution_count": 22
  },
  {
   "metadata": {},
   "cell_type": "markdown",
   "source": "Making column to row and vice versa\n",
   "id": "e5e95a056ec47cf2"
  },
  {
   "metadata": {
    "ExecuteTime": {
     "end_time": "2025-09-26T19:51:30.452162Z",
     "start_time": "2025-09-26T19:51:30.447098Z"
    }
   },
   "cell_type": "code",
   "source": [
    "nums = np.array([[[1, 2, 3, 4],\n",
    "               [0, 1, 3, 4],\n",
    "               [90, 91, 93, 94],\n",
    "               [5, 0, 3, 2],[0, 1, 3, 4],]])\n",
    "numy=nums[::-1,::-1]\n",
    "print(nums)\n",
    "print(numy)"
   ],
   "id": "796e2bc3e958fdae",
   "outputs": [
    {
     "name": "stdout",
     "output_type": "stream",
     "text": [
      "[[[ 1  2  3  4]\n",
      "  [ 0  1  3  4]\n",
      "  [90 91 93 94]\n",
      "  [ 5  0  3  2]\n",
      "  [ 0  1  3  4]]]\n",
      "[[[ 0  1  3  4]\n",
      "  [ 5  0  3  2]\n",
      "  [90 91 93 94]\n",
      "  [ 0  1  3  4]\n",
      "  [ 1  2  3  4]]]\n"
     ]
    }
   ],
   "execution_count": 24
  },
  {
   "metadata": {},
   "cell_type": "markdown",
   "source": "Using flip\n",
   "id": "94d89c6a63ce3d98"
  },
  {
   "metadata": {
    "ExecuteTime": {
     "end_time": "2025-09-26T20:03:23.739969Z",
     "start_time": "2025-09-26T20:03:23.734674Z"
    }
   },
   "cell_type": "code",
   "source": "np.flip(nums,axis=0)",
   "id": "56c1f4f79e77cb04",
   "outputs": [
    {
     "data": {
      "text/plain": [
       "array([[[ 1,  2,  3,  4],\n",
       "        [ 0,  1,  3,  4],\n",
       "        [90, 91, 93, 94],\n",
       "        [ 5,  0,  3,  2],\n",
       "        [ 0,  1,  3,  4]]])"
      ]
     },
     "execution_count": 25,
     "metadata": {},
     "output_type": "execute_result"
    }
   ],
   "execution_count": 25
  },
  {
   "metadata": {
    "ExecuteTime": {
     "end_time": "2025-09-26T20:03:41.864261Z",
     "start_time": "2025-09-26T20:03:41.859024Z"
    }
   },
   "cell_type": "code",
   "source": "np.flip(nums,axis=1)",
   "id": "f774bc02b375ac24",
   "outputs": [
    {
     "data": {
      "text/plain": [
       "array([[[ 0,  1,  3,  4],\n",
       "        [ 5,  0,  3,  2],\n",
       "        [90, 91, 93, 94],\n",
       "        [ 0,  1,  3,  4],\n",
       "        [ 1,  2,  3,  4]]])"
      ]
     },
     "execution_count": 26,
     "metadata": {},
     "output_type": "execute_result"
    }
   ],
   "execution_count": 26
  },
  {
   "metadata": {
    "ExecuteTime": {
     "end_time": "2025-09-26T20:04:12.708586Z",
     "start_time": "2025-09-26T20:04:12.703008Z"
    }
   },
   "cell_type": "code",
   "source": "np.flip(nums)",
   "id": "418aa78df85ff0e0",
   "outputs": [
    {
     "data": {
      "text/plain": [
       "array([[[ 4,  3,  1,  0],\n",
       "        [ 2,  3,  0,  5],\n",
       "        [94, 93, 91, 90],\n",
       "        [ 4,  3,  1,  0],\n",
       "        [ 4,  3,  2,  1]]])"
      ]
     },
     "execution_count": 27,
     "metadata": {},
     "output_type": "execute_result"
    }
   ],
   "execution_count": 27
  },
  {
   "metadata": {
    "ExecuteTime": {
     "end_time": "2025-09-26T20:07:07.575549Z",
     "start_time": "2025-09-26T20:07:07.570823Z"
    }
   },
   "cell_type": "code",
   "source": [
    "y=np.ones_like(nums)\n",
    "print(y)"
   ],
   "id": "33874e4c1742a78",
   "outputs": [
    {
     "name": "stdout",
     "output_type": "stream",
     "text": [
      "[[[1 1 1 1]\n",
      "  [1 1 1 1]\n",
      "  [1 1 1 1]\n",
      "  [1 1 1 1]\n",
      "  [1 1 1 1]]]\n"
     ]
    }
   ],
   "execution_count": 28
  },
  {
   "metadata": {},
   "cell_type": "markdown",
   "source": "Replacing 3 to 9 in nums array",
   "id": "12a852aba58ec2d"
  },
  {
   "metadata": {
    "ExecuteTime": {
     "end_time": "2025-09-26T20:10:15.297570Z",
     "start_time": "2025-09-26T20:10:15.292893Z"
    }
   },
   "cell_type": "code",
   "source": [
    "z=np.where(nums==3,9,nums)\n",
    "print(z)"
   ],
   "id": "4c11fe513ec92871",
   "outputs": [
    {
     "name": "stdout",
     "output_type": "stream",
     "text": [
      "[[[ 1  2  9  4]\n",
      "  [ 0  1  9  4]\n",
      "  [90 91 93 94]\n",
      "  [ 5  0  9  2]\n",
      "  [ 0  1  9  4]]]\n"
     ]
    }
   ],
   "execution_count": 29
  },
  {
   "metadata": {},
   "cell_type": "markdown",
   "source": "replacing element where element are lesser than",
   "id": "4b0083161aa5a55c"
  },
  {
   "metadata": {
    "ExecuteTime": {
     "end_time": "2025-09-26T20:11:30.251087Z",
     "start_time": "2025-09-26T20:11:30.243880Z"
    }
   },
   "cell_type": "code",
   "outputs": [
    {
     "name": "stdout",
     "output_type": "stream",
     "text": [
      "[[[ 7  7  7  4]\n",
      "  [ 7  7  7  4]\n",
      "  [90 91 93 94]\n",
      "  [ 5  7  7  7]\n",
      "  [ 7  7  7  4]]]\n"
     ]
    }
   ],
   "execution_count": 31,
   "source": [
    "z=np.where(nums<4,7,nums)\n",
    "print(z)"
   ],
   "id": "7f181ed4158ff80b"
  },
  {
   "metadata": {},
   "cell_type": "markdown",
   "source": "Extracting number from numpy array",
   "id": "4c7b286c65e44d3a"
  },
  {
   "metadata": {
    "ExecuteTime": {
     "end_time": "2025-09-26T21:44:58.299793Z",
     "start_time": "2025-09-26T21:44:58.295941Z"
    }
   },
   "cell_type": "code",
   "outputs": [
    {
     "name": "stdout",
     "output_type": "stream",
     "text": [
      "[90 91 93 94]\n"
     ]
    }
   ],
   "execution_count": 32,
   "source": [
    "m=z[z>7]\n",
    "print(m)"
   ],
   "id": "fdb111779f010323"
  },
  {
   "metadata": {
    "ExecuteTime": {
     "end_time": "2025-09-26T21:46:06.320944Z",
     "start_time": "2025-09-26T21:46:06.314904Z"
    }
   },
   "cell_type": "code",
   "source": [
    "m=z[z<=7]\n",
    "print(m)"
   ],
   "id": "fa04c1c19095e798",
   "outputs": [
    {
     "name": "stdout",
     "output_type": "stream",
     "text": [
      "[7 7 7 4 7 7 7 4 5 7 7 7 7 7 7 4]\n"
     ]
    }
   ],
   "execution_count": 33
  },
  {
   "metadata": {},
   "cell_type": "markdown",
   "source": "Sorting by row",
   "id": "9283e5924e563436"
  },
  {
   "metadata": {
    "ExecuteTime": {
     "end_time": "2025-09-26T21:57:52.310870Z",
     "start_time": "2025-09-26T21:57:52.305831Z"
    }
   },
   "cell_type": "code",
   "source": "print(np.sort(numy))\n",
   "id": "3ce5a9adb392fad9",
   "outputs": [
    {
     "name": "stdout",
     "output_type": "stream",
     "text": [
      "[[[ 0  1  3  4]\n",
      "  [ 0  2  3  5]\n",
      "  [90 91 93 94]\n",
      "  [ 0  1  3  4]\n",
      "  [ 1  2  3  4]]]\n"
     ]
    }
   ],
   "execution_count": 58
  },
  {
   "metadata": {
    "ExecuteTime": {
     "end_time": "2025-09-26T21:57:18.598506Z",
     "start_time": "2025-09-26T21:57:18.593962Z"
    }
   },
   "cell_type": "code",
   "source": "print(np.sort(numy,axis=1))\n",
   "id": "1a5a6b7ce5cce5df",
   "outputs": [
    {
     "name": "stdout",
     "output_type": "stream",
     "text": [
      "[[[ 0  0  3  2]\n",
      "  [ 0  1  3  4]\n",
      "  [ 1  1  3  4]\n",
      "  [ 5  2  3  4]\n",
      "  [90 91 93 94]]]\n"
     ]
    }
   ],
   "execution_count": 55
  },
  {
   "metadata": {
    "ExecuteTime": {
     "end_time": "2025-09-26T22:11:16.436970Z",
     "start_time": "2025-09-26T22:11:16.431697Z"
    }
   },
   "cell_type": "code",
   "source": [
    "# Importing the NumPy library with an alias 'np'\n",
    "import numpy as np\n",
    "\n",
    "# Creating a NumPy array 'nums' with shape (5, 6) filled with zeros of integer type\n",
    "nums = np.zeros(shape=(5, 6), dtype='int')\n",
    "\n",
    "# Printing a message indicating the original array\n",
    "print(\"Original array:\")\n",
    "print(nums)\n",
    "\n",
    "# Assigning value 3 to every alternate row and column starting from index 0\n",
    "nums[::3, ::2] = 3\n",
    "\n",
    "# Assigning value 7 to every alternate row starting from index 1 and every column starting from index 0\n",
    "nums[1::3, ::2] = 7\n",
    "\n",
    "# Printing the updated array after assigning values 3 and 7\n",
    "print(\"\\nNew array:\")\n",
    "print(nums)\n"
   ],
   "id": "86b21c4f533ce99d",
   "outputs": [
    {
     "name": "stdout",
     "output_type": "stream",
     "text": [
      "Original array:\n",
      "[[0 0 0 0 0 0]\n",
      " [0 0 0 0 0 0]\n",
      " [0 0 0 0 0 0]\n",
      " [0 0 0 0 0 0]\n",
      " [0 0 0 0 0 0]]\n",
      "\n",
      "New array:\n",
      "[[3 0 3 0 3 0]\n",
      " [7 7 7 7 7 7]\n",
      " [0 0 0 0 0 0]\n",
      " [3 0 3 0 3 0]\n",
      " [7 7 7 7 7 7]]\n"
     ]
    }
   ],
   "execution_count": 65
  }
 ],
 "metadata": {
  "kernelspec": {
   "display_name": "Python 3",
   "language": "python",
   "name": "python3"
  },
  "language_info": {
   "codemirror_mode": {
    "name": "ipython",
    "version": 2
   },
   "file_extension": ".py",
   "mimetype": "text/x-python",
   "name": "python",
   "nbconvert_exporter": "python",
   "pygments_lexer": "ipython2",
   "version": "2.7.6"
  }
 },
 "nbformat": 4,
 "nbformat_minor": 5
}
